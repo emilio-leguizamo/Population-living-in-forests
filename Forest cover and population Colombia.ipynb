{
 "cells": [
  {
   "cell_type": "markdown",
   "id": "e89e67e0",
   "metadata": {},
   "source": [
    "# Code to generate municipality forest polygons for Colombia"
   ]
  },
  {
   "cell_type": "markdown",
   "id": "a2ba7968",
   "metadata": {},
   "source": [
    "### Load packages"
   ]
  },
  {
   "cell_type": "code",
   "execution_count": 1,
   "id": "e9d6801d",
   "metadata": {},
   "outputs": [],
   "source": [
    "import os\n",
    "import ee\n",
    "import geemap"
   ]
  },
  {
   "cell_type": "code",
   "execution_count": 2,
   "id": "01d9dfa3",
   "metadata": {},
   "outputs": [],
   "source": [
    "ee.Initialize()\n",
    "#ee.Authenticate()"
   ]
  },
  {
   "cell_type": "markdown",
   "id": "92b24436",
   "metadata": {},
   "source": [
    "### Set data parameters"
   ]
  },
  {
   "cell_type": "code",
   "execution_count": 3,
   "id": "21c18ba4",
   "metadata": {},
   "outputs": [],
   "source": [
    "# Selected country \n",
    "country = 'Colombia';\n",
    "# Canopy cover percentage (e.g. 10%).\n",
    "cc = ee.Number(25);\n",
    "# Minimum forest area in pixels (e.g. 6 pixels, ~ 0.5 ha in this example).\n",
    "pixels = ee.Number(6);\n",
    "# Minimum mapping area for tree loss (usually same as the minimum forest area).\n",
    "lossPixels = ee.Number(6);"
   ]
  },
  {
   "cell_type": "markdown",
   "id": "66a752ba",
   "metadata": {},
   "source": [
    "### Import forest cover data"
   ]
  },
  {
   "cell_type": "code",
   "execution_count": 4,
   "id": "48adb912",
   "metadata": {},
   "outputs": [
    {
     "name": "stdout",
     "output_type": "stream",
     "text": [
      "{'type': 'Polygon', 'coordinates': [[[-79, -4.3], [-66.5, -4.3], [-66.5, 12.55], [-79, 12.55], [-79, -4.3]]]}\n"
     ]
    }
   ],
   "source": [
    "#Load country features from Large Scale International Boundary (LSIB) dataset.\n",
    "countries = ee.FeatureCollection('USDOS/LSIB_SIMPLE/2017');\n",
    "country_shp = countries.filter(ee.Filter.eq('country_na', ee.String(country)));\n",
    "\n",
    "# Draw any shapes on the map using the Drawing tools before executing this code block\n",
    "#roi = Map.user_roi\n",
    "roi = ee.Geometry.Polygon([[[-79, -4.3], [-79, 12.55], [-66.5, 12.55], [-66.5, -4.3]]])\n",
    "print(roi.getInfo())\n",
    "#Map.addLayer(roi, {}, 'polygonGeoJSON')\n",
    "#country_shp=roi\n",
    "\n",
    "#Load GFC data for 2020\n",
    "gfc = ee.Image('UMD/hansen/global_forest_change_2020_v1_8')"
   ]
  },
  {
   "cell_type": "code",
   "execution_count": 5,
   "id": "95cf8f38",
   "metadata": {},
   "outputs": [],
   "source": [
    "#Select tree cover\n",
    "canopyCover = gfc.select(['treecover2000']) #Make areas below the canopy cover transparent\n",
    "canopyCover = canopyCover.gte(cc).selfMask()\n",
    "canopyCover = canopyCover.connectedPixelCount().gte(pixels).selfMask().clip(country_shp)"
   ]
  },
  {
   "cell_type": "markdown",
   "id": "88df0f1b",
   "metadata": {},
   "source": [
    "### Map baseline tree cover (2000)"
   ]
  },
  {
   "cell_type": "code",
   "execution_count": 6,
   "id": "0c6f7356",
   "metadata": {},
   "outputs": [
    {
     "name": "stderr",
     "output_type": "stream",
     "text": [
      "No such comm: fb1a0d12d2b74b7ea4496d0f41ab1f1f\n"
     ]
    },
    {
     "data": {
      "application/vnd.jupyter.widget-view+json": {
       "model_id": "6f90193d395d404491dc896dca4804ed",
       "version_major": 2,
       "version_minor": 0
      },
      "text/plain": [
       "Map(center=[20, 0], controls=(WidgetControl(options=['position', 'transparent_bg'], widget=HBox(children=(Togg…"
      ]
     },
     "execution_count": 6,
     "metadata": {},
     "output_type": "execute_result"
    }
   ],
   "source": [
    "Map = geemap.Map()\n",
    "Map"
   ]
  },
  {
   "cell_type": "code",
   "execution_count": 7,
   "id": "ebd9fdd2",
   "metadata": {},
   "outputs": [],
   "source": [
    "treecover = canopyCover\n",
    "Map.addLayer(treecover, {'min': 0,'max': 1,  'palette': ['green']} ,'cover2000')\n",
    "Map.setCenter(-68, 5, 6)"
   ]
  },
  {
   "cell_type": "markdown",
   "id": "08f16a6f",
   "metadata": {},
   "source": [
    "### Load population data form Grided population of the world - NASA "
   ]
  },
  {
   "cell_type": "code",
   "execution_count": 8,
   "id": "63788d98",
   "metadata": {},
   "outputs": [],
   "source": [
    "#Load population data and mask for forest area\n",
    "#gpw = ee.ImageCollection(\"CIESIN/GPWv411/GPW_Population_Density\").filter(ee.Filter.date('2015-01-01', '2016-01-01'))\n",
    "gpw2005 = ee.Image('CIESIN/GPWv4/population-count/2005').updateMask(treecover.eq(1))\n",
    "gpw2010 = ee.Image('CIESIN/GPWv4/population-count/2010').updateMask(treecover.eq(1))\n",
    "gpw2015 = ee.Image('CIESIN/GPWv4/population-count/2015').updateMask(treecover.eq(1))\n",
    "gpw2020 = ee.Image('CIESIN/GPWv4/population-count/2020').updateMask(treecover.eq(1))"
   ]
  },
  {
   "cell_type": "code",
   "execution_count": 9,
   "id": "5f49323d",
   "metadata": {},
   "outputs": [
    {
     "name": "stdout",
     "output_type": "stream",
     "text": [
      "{'IMAGE_DATE': '2005-01-01', 'NOMINAL_SCALE': 927.662423277286, 'system:asset_size': '305.637526 MB', 'system:band_names': ['population-count'], 'system:id': 'CIESIN/GPWv4/population-count/2005', 'system:index': '2005', 'system:time_end': '2005-01-01 00:00:00', 'system:time_start': '2005-01-01 00:00:00', 'system:version': 1493666437460000.0}\n"
     ]
    }
   ],
   "source": [
    "#Plot data of poulation living on forests\n",
    "#print(geemap.image_props(gpw2005).getInfo())\n",
    "\n",
    "raster_vis = {\n",
    "  \"max\": 1000.0,\n",
    "  \"palette\": [\n",
    "    \"ffffe7\",\n",
    "    \"86a192\",\n",
    "    \"509791\",\n",
    "    \"307296\",\n",
    "    \"2c4484\",\n",
    "    \"000066\"\n",
    "  ],\n",
    "  \"min\": 0.0\n",
    "}\n",
    "\n",
    "Map.addLayer(gpw2020, raster_vis, 'population_2020')"
   ]
  },
  {
   "cell_type": "markdown",
   "id": "c61c958e",
   "metadata": {},
   "source": [
    "## Population living in forests by municipalities"
   ]
  },
  {
   "cell_type": "markdown",
   "id": "ab24a1b9",
   "metadata": {},
   "source": [
    "### Import municipality shapefile"
   ]
  },
  {
   "cell_type": "code",
   "execution_count": 10,
   "id": "80442286",
   "metadata": {},
   "outputs": [],
   "source": [
    "#geemap.ee_search()\n",
    "municipios = ee.FeatureCollection('users/emileg1079/municipios')"
   ]
  },
  {
   "cell_type": "markdown",
   "id": "9498561d",
   "metadata": {},
   "source": [
    "### Loop for counting popultion"
   ]
  },
  {
   "cell_type": "code",
   "execution_count": null,
   "id": "1b16755d",
   "metadata": {},
   "outputs": [],
   "source": [
    "#Define function to aggregate raster data over a geometry\n",
    "\n",
    "def mun_temp(region,var,agg_fun) :\n",
    "    total = var.reduceRegion(\n",
    "        reducer=agg_fun,\n",
    "        geometry=region.geometry(),\n",
    "        scale=1000,\n",
    "        maxPixels=1e10\n",
    "        );\n",
    "    return region.set(total)"
   ]
  },
  {
   "cell_type": "code",
   "execution_count": 11,
   "id": "1847fc7c",
   "metadata": {
    "scrolled": true
   },
   "outputs": [],
   "source": [
    "#Loop that sums population over 1km2 pixels of forests\n",
    "\n",
    "for y in [\"2005\",\"2010\",\"2015\",\"2020\"] :\n",
    "    gpw_y = ee.Image(f'CIESIN/GPWv4/population-count/{y}').updateMask(treecover.eq(1))\n",
    "    gpw_y_pop = gpw_y.select(\"population-count\")\n",
    "    gpw_y_sum = municipios.map(lambda x: mun_temp(x, gpw_y_pop, ee.Reducer.sum()))\n",
    "    task = ee.batch.Export.table.toDrive(collection=gpw_y_sum,\n",
    "                                     folder=\"gee_export_test\", # Nombre de la carpeta\n",
    "                                     description=f\"population_forest_{y}\") # Nombre del archivo\n",
    "                                     #fileFormat=\"shp\") # Tipo de archivo\n",
    "    task.start()"
   ]
  },
  {
   "cell_type": "code",
   "execution_count": null,
   "id": "d337a0ed",
   "metadata": {},
   "outputs": [],
   "source": []
  },
  {
   "cell_type": "code",
   "execution_count": 12,
   "id": "5a2122ae",
   "metadata": {},
   "outputs": [],
   "source": [
    "# EJEMPLO PARA UN SOLO AÑO\n",
    "# Se seleccionan las variables que se quieren extraer\n",
    "gpw2015_pop = gpw2015.select(\"population-count\")\n",
    "# Con la función \"mun_temp\" se aplica la reducción en el shape file deseado\n",
    "# \"municipios\" es un featureCollection con los polígonos de los municipios\n",
    "gpw2015_sum = municipios.map(lambda x: mun_temp(x, gpw2015_pop, ee.Reducer.sum()))"
   ]
  },
  {
   "cell_type": "code",
   "execution_count": 13,
   "id": "942f2091",
   "metadata": {
    "scrolled": true
   },
   "outputs": [],
   "source": [
    "task = ee.batch.Export.table.toDrive(\n",
    "    collection=gpw2015_sum,\n",
    "    folder=\"gee_export_test\", # Nombre de la carpeta\n",
    "    description=\"gpw2015\") # Nombre del archivo                 \n",
    "#    fileFormat=\"shp\") # Tipo de archivo\n",
    "task.start()\n",
    "\n",
    "#print(gpw2015_sum)"
   ]
  }
 ],
 "metadata": {
  "kernelspec": {
   "display_name": "Python 3 (ipykernel)",
   "language": "python",
   "name": "python3"
  },
  "language_info": {
   "codemirror_mode": {
    "name": "ipython",
    "version": 3
   },
   "file_extension": ".py",
   "mimetype": "text/x-python",
   "name": "python",
   "nbconvert_exporter": "python",
   "pygments_lexer": "ipython3",
   "version": "3.11.0"
  }
 },
 "nbformat": 4,
 "nbformat_minor": 5
}
