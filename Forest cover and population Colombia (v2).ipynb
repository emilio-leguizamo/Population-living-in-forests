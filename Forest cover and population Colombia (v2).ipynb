{
 "cells": [
  {
   "cell_type": "markdown",
   "id": "e89e67e0",
   "metadata": {},
   "source": [
    "# Num. of people living in forests by municipality (Colombia)"
   ]
  },
  {
   "cell_type": "markdown",
   "id": "a2ba7968",
   "metadata": {},
   "source": [
    "### Load packages"
   ]
  },
  {
   "cell_type": "code",
   "execution_count": 1,
   "id": "e9d6801d",
   "metadata": {},
   "outputs": [],
   "source": [
    "import os\n",
    "import ee\n",
    "import geemap"
   ]
  },
  {
   "cell_type": "code",
   "execution_count": 2,
   "id": "01d9dfa3",
   "metadata": {},
   "outputs": [],
   "source": [
    "ee.Initialize()\n",
    "#ee.Authenticate()"
   ]
  },
  {
   "cell_type": "markdown",
   "id": "92b24436",
   "metadata": {},
   "source": [
    "### Set data parameters"
   ]
  },
  {
   "cell_type": "code",
   "execution_count": 3,
   "id": "21c18ba4",
   "metadata": {},
   "outputs": [],
   "source": [
    "# Selected country \n",
    "country = 'Colombia';\n",
    "# Canopy cover percentage (e.g. 10%).\n",
    "cc = ee.Number(25);\n",
    "# Minimum forest area in pixels (e.g. 6 pixels, ~ 0.5 ha in this example).\n",
    "pixels = ee.Number(6);\n",
    "# Minimum mapping area for tree loss (usually same as the minimum forest area).\n",
    "lossPixels = ee.Number(6);"
   ]
  },
  {
   "cell_type": "markdown",
   "id": "66a752ba",
   "metadata": {},
   "source": [
    "## Forest cover data"
   ]
  },
  {
   "cell_type": "code",
   "execution_count": 4,
   "id": "48adb912",
   "metadata": {},
   "outputs": [],
   "source": [
    "#Load country features from Large Scale International Boundary (LSIB) dataset.\n",
    "countries = ee.FeatureCollection('USDOS/LSIB_SIMPLE/2017');\n",
    "country_shp = countries.filter(ee.Filter.eq('country_na', ee.String(country)));\n",
    "\n",
    "#Load GFC data for 2020\n",
    "gfc = ee.Image('UMD/hansen/global_forest_change_2020_v1_8')\n",
    "#gfc = gfc.reproject(crs='EPSG:4326', scale=1000)\n",
    "#gfc = gfc.reduceResolution(reducer=ee.Reducer.mean(), maxPixels=10e10)"
   ]
  },
  {
   "cell_type": "code",
   "execution_count": 5,
   "id": "95cf8f38",
   "metadata": {},
   "outputs": [],
   "source": [
    "#Select tree cover\n",
    "canopyCover = gfc.select(['treecover2000']) #Make areas below the canopy cover transparent\n",
    "canopyCover = canopyCover.gte(cc).selfMask()\n",
    "canopyCover = canopyCover.connectedPixelCount().gte(pixels).selfMask().clip(country_shp)\n",
    "treecover = canopyCover"
   ]
  },
  {
   "cell_type": "code",
   "execution_count": 6,
   "id": "d76c611f",
   "metadata": {},
   "outputs": [],
   "source": [
    "#Genrate tree cover loss images for every year\n",
    "lossyear = gfc.select(['lossyear']).clip(country_shp)\n",
    "\n",
    "loss_list = []\n",
    "for i in range(0,21):\n",
    "    loss = lossyear.lte(i)\n",
    "    loss = treecover.mask(loss).selfMask()\n",
    "    loss_list.append(loss)\n",
    "    \n",
    "    #Note: loss_list[0]= no loss in year 2000 (basline forest cover), \n",
    "    #loss_list[20]= pixels of tree cover loss in 2020    "
   ]
  },
  {
   "cell_type": "code",
   "execution_count": 7,
   "id": "6d1a0eb9",
   "metadata": {},
   "outputs": [],
   "source": [
    "#Generate tree cover images for every year\n",
    "cover_in_years = []\n",
    "\n",
    "for i in range(0,21):\n",
    "    binary = loss_list[i].unmask(0)\n",
    "    binary = binary.eq(0).And(treecover.eq(1)).selfMask()\n",
    "    binary = binary.unmask(0). clip(country_shp)\n",
    "        \n",
    "    cover_in_years.append(binary)\n",
    "    \n",
    "    #Note: cover_in_years[0]= tree cover pixels in 2000..."
   ]
  },
  {
   "cell_type": "markdown",
   "id": "c61c958e",
   "metadata": {},
   "source": [
    "## Population living in forests by municipalities"
   ]
  },
  {
   "cell_type": "markdown",
   "id": "ab24a1b9",
   "metadata": {},
   "source": [
    "#### Import municipality shapefile"
   ]
  },
  {
   "cell_type": "code",
   "execution_count": 8,
   "id": "80442286",
   "metadata": {},
   "outputs": [],
   "source": [
    "#geemap.ee_search()\n",
    "municipios = ee.FeatureCollection('users/emileg1079/municipios')"
   ]
  },
  {
   "cell_type": "markdown",
   "id": "154e4e94",
   "metadata": {},
   "source": [
    "### Visualize the data at the country level "
   ]
  },
  {
   "cell_type": "code",
   "execution_count": 9,
   "id": "eb109655",
   "metadata": {},
   "outputs": [],
   "source": [
    "#Population for the country\n",
    "cover = cover_in_years[0].selfMask()\n",
    "gpw = ee.Image('CIESIN/GPWv4/population-count/2020').updateMask(cover)"
   ]
  },
  {
   "cell_type": "markdown",
   "id": "207675fc",
   "metadata": {},
   "source": [
    "#### Map layers"
   ]
  },
  {
   "cell_type": "code",
   "execution_count": 10,
   "id": "33632afc",
   "metadata": {},
   "outputs": [
    {
     "data": {
      "application/vnd.jupyter.widget-view+json": {
       "model_id": "06081fa32f3d4c2fb6305020f58c615b",
       "version_major": 2,
       "version_minor": 0
      },
      "text/plain": [
       "Map(center=[5, -68], controls=(WidgetControl(options=['position', 'transparent_bg'], widget=HBox(children=(Tog…"
      ]
     },
     "execution_count": 10,
     "metadata": {},
     "output_type": "execute_result"
    }
   ],
   "source": [
    "Map = geemap.Map()\n",
    "\n",
    "raster_vis = {\n",
    "  \"max\": 1000.0,\n",
    "  \"palette\": [\n",
    "    \"ffffe7\",\n",
    "    \"86a192\",\n",
    "    \"509791\",\n",
    "    \"307296\",\n",
    "    \"2c4484\",\n",
    "    \"000066\"\n",
    "  ],\n",
    "  \"min\": 0.0\n",
    "}\n",
    "\n",
    "Map.addLayer(cover, {'min': 0,'max': 1,  'palette': ['green']} ,'cover2000')\n",
    "Map.addLayer(gpw, raster_vis, 'population_2020')\n",
    "\n",
    "Map.setCenter(-68, 5, 6)\n",
    "Map"
   ]
  },
  {
   "cell_type": "markdown",
   "id": "d631715f",
   "metadata": {},
   "source": [
    "#### Count the total population living in forests in the country"
   ]
  },
  {
   "cell_type": "code",
   "execution_count": 11,
   "id": "c7da15b0",
   "metadata": {},
   "outputs": [
    {
     "name": "stdout",
     "output_type": "stream",
     "text": [
      "Population count: 30661415.48427544\n"
     ]
    }
   ],
   "source": [
    "# Load a polygon feature\n",
    "polygon = municipios\n",
    "\n",
    "# Reduce the population data within the polygon\n",
    "population_count = gpw.reduceRegion(\n",
    "  reducer=ee.Reducer.sum(),\n",
    "  geometry=polygon.geometry(),\n",
    "  scale=1000,\n",
    "  maxPixels=1e12\n",
    ").getInfo()['population-count']\n",
    "\n",
    "# Print the population count for people living in forests in year 2000\n",
    "print('Population count:', population_count)"
   ]
  },
  {
   "cell_type": "markdown",
   "id": "9498561d",
   "metadata": {},
   "source": [
    "#### Function for adding popultion by municipality"
   ]
  },
  {
   "cell_type": "code",
   "execution_count": 12,
   "id": "1b16755d",
   "metadata": {},
   "outputs": [],
   "source": [
    "#Define function to aggregate raster data over a geometry\n",
    "def mun_temp(region,var,agg_fun) :\n",
    "    total = var.reduceRegion(\n",
    "        reducer=agg_fun,\n",
    "        geometry=region.geometry(),\n",
    "        scale=1000,\n",
    "        maxPixels=1e10\n",
    "        );\n",
    "    return region.set(total)"
   ]
  },
  {
   "cell_type": "markdown",
   "id": "55d84ce2",
   "metadata": {},
   "source": [
    "#### Loop over function over years for changing forests"
   ]
  },
  {
   "cell_type": "code",
   "execution_count": 22,
   "id": "1847fc7c",
   "metadata": {
    "scrolled": true
   },
   "outputs": [],
   "source": [
    "#Loop that sums population over 1km2 pixels of forests (changing forests)\n",
    "for y in [\"2005\",\"2010\",\"2015\",\"2020\"] :\n",
    "    \n",
    "    #Load tree cover data\n",
    "    n = int(y)-2000 \n",
    "    cover = cover_in_years[n].selfMask()\n",
    "    \n",
    "    #Load grided population of the world data\n",
    "    gpw = ee.Image(f'CIESIN/GPWv4/population-count/{y}').updateMask(cover)\n",
    "    gpw_y_pop = gpw.select(\"population-count\")\n",
    "    \n",
    "    #Excecute function \n",
    "    gpw_y_sum = municipios.map(lambda x: mun_temp(x, gpw_y_pop, ee.Reducer.sum()))\n",
    "\n",
    "    #Save csv to drive\n",
    "    task = ee.batch.Export.table.toDrive(collection=gpw_y_sum,\n",
    "                                     folder=\"pop_in_forests_v3\", # Nombre de la carpeta\n",
    "                                     description=f\"population_forest_{y}\") # Nombre del archivo\n",
    "                                     #fileFormat=\"shp\") # Tipo de archivo\n",
    "    task.start()"
   ]
  },
  {
   "cell_type": "markdown",
   "id": "bd3d8a16",
   "metadata": {},
   "source": [
    "#### Population per municipality  GPW"
   ]
  },
  {
   "cell_type": "code",
   "execution_count": 21,
   "id": "d584c601",
   "metadata": {},
   "outputs": [],
   "source": [
    "#Loop that sums population over 1km2 pixels for each municipio\n",
    "for y in [\"2005\",\"2010\",\"2015\",\"2020\"] :\n",
    "\n",
    "    #Load grided population of the world data\n",
    "    gpw = ee.Image(f'CIESIN/GPWv4/population-count/{y}')\n",
    "    gpw_pop = gpw.select(\"population-count\")\n",
    "    \n",
    "    #Excecute function \n",
    "    gpw_y_sum = municipios.map(lambda x: mun_temp(x, gpw_pop, ee.Reducer.sum()))\n",
    "\n",
    "    #Save csv to drive\n",
    "    task = ee.batch.Export.table.toDrive(collection=gpw_y_sum,\n",
    "                                     folder=\"pop_tot\", # Nombre de la carpeta\n",
    "                                     description=f\"population_tot_{y}\") #Nombre del archivo\n",
    "                                     #fileFormat=\"shp\") # Tipo de archivo\n",
    "    task.start()"
   ]
  },
  {
   "cell_type": "markdown",
   "id": "f7aef5e5",
   "metadata": {},
   "source": [
    "#### Loop over function over years for baseline forest (2000)"
   ]
  },
  {
   "cell_type": "code",
   "execution_count": 15,
   "id": "3f61f6c0",
   "metadata": {},
   "outputs": [],
   "source": [
    "#Loop that sums population over 1km2 pixels of forests (2000)\n",
    "for y in [\"2005\",\"2010\",\"2015\",\"2020\"] :\n",
    "    \n",
    "    cover = cover_in_years[0].selfMask()\n",
    "    \n",
    "    #Load grided population of the world data\n",
    "    gpw_y = ee.Image(f'CIESIN/GPWv4/population-count/{y}').updateMask(cover)\n",
    "    gpw_y_pop = gpw_y.select(\"population-count\")\n",
    "    gpw_y_sum = municipios.map(lambda x: mun_temp(x, gpw_y_pop, ee.Reducer.sum()))\n",
    "    \n",
    "    #Save csv to drive\n",
    "    task = ee.batch.Export.table.toDrive(collection=gpw_y_sum,\n",
    "                                     folder=\"pop_in_forests_2000\", # Nombre de la carpeta\n",
    "                                     description=f\"population_forest_2000_{y}\") # Nombre del archivo\n",
    "                                     #fileFormat=\"shp\") # Tipo de archivo\n",
    "    task.start()"
   ]
  }
 ],
 "metadata": {
  "kernelspec": {
   "display_name": "Python 3 (ipykernel)",
   "language": "python",
   "name": "python3"
  },
  "language_info": {
   "codemirror_mode": {
    "name": "ipython",
    "version": 3
   },
   "file_extension": ".py",
   "mimetype": "text/x-python",
   "name": "python",
   "nbconvert_exporter": "python",
   "pygments_lexer": "ipython3",
   "version": "3.11.0"
  }
 },
 "nbformat": 4,
 "nbformat_minor": 5
}
